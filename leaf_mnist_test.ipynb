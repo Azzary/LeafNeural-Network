{
 "cells": [
  {
   "cell_type": "code",
   "execution_count": 1,
   "metadata": {},
   "outputs": [],
   "source": [
    "import numpy as np\n",
    "import tensorflow as tf\n",
    "import matplotlib.pyplot as plt\n",
    "from sklearn.metrics import confusion_matrix\n",
    "import seaborn as sns\n"
   ]
  },
  {
   "cell_type": "code",
   "execution_count": 2,
   "metadata": {},
   "outputs": [],
   "source": [
    "def to_one_hot(y, num_classes=10):\n",
    "    return np.eye(num_classes)[y]\n",
    "\n",
    "# Charger les données MNIST\n",
    "mnist = tf.keras.datasets.mnist\n",
    "(X_train, y_train), (X_test, y_test) = mnist.load_data()\n",
    "# cast to np.array\n",
    "X_train = np.array(X_train)\n",
    "X_test = np.array(X_test)\n",
    "y_train = np.array(y_train)\n",
    "y_test = np.array(y_test)\n",
    "\n",
    "# Prétraitement des données\n",
    "X_train = X_train.reshape(-1, 784) / 255.0\n",
    "X_test = X_test.reshape(-1, 784) / 255.0\n",
    "y_train_one_hot = to_one_hot(y_train)"
   ]
  },
  {
   "cell_type": "code",
   "execution_count": 3,
   "metadata": {},
   "outputs": [
    {
     "data": {
      "image/png": "[encoded data removed]",
      "text/plain": [
       "<Figure size 1200x500 with 10 Axes>"
      ]
     },
     "metadata": {},
     "output_type": "display_data"
    }
   ],
   "source": [
    "# Visualiser quelques images d'entraînement\n",
    "fig, axes = plt.subplots(2, 5, figsize=(12, 5))\n",
    "for i, ax in enumerate(axes.flat):\n",
    "    ax.imshow(X_train[i].reshape(28, 28), cmap='gray')\n",
    "    ax.set_title(f'Label: {y_train[i]}')\n",
    "    ax.axis('off')\n",
    "plt.tight_layout()\n",
    "plt.show()"
   ]
  },
  {
   "cell_type": "code",
   "execution_count": 4,
   "metadata": {},
   "outputs": [
    {
     "name": "stdout",
     "output_type": "stream",
     "text": [
      "Epoch: 0 - Error: 0.064879\n",
      "Epoch: 1 - Error: 0.042203\n"
     ]
    }
   ],
   "source": [
    "#Entrainer le modèle\n",
    "from LeafNetwork import *\n",
    "\n",
    "\n",
    "nn = LeafNetwork(784)\n",
    "nn.add(Dense(784, 128))\n",
    "nn.add(ReLU())\n",
    "nn.add(Dense(128, 64))\n",
    "nn.add(ReLU())\n",
    "nn.add(Dense(64, 10))\n",
    "\n",
    "import time\n",
    "start = time.time()\n",
    "history = nn.train(X_train[:50000], y_train_one_hot[:50000], epochs=20, learning_rate=0.0006)\n",
    "end = time.time()\n",
    "print(f\"Temps d'entraînement: {end - start:.2f}s\")\n",
    "nn.save(\"leaf_mnist_model.json\")"
   ]
  },
  {
   "cell_type": "code",
   "execution_count": null,
   "metadata": {},
   "outputs": [],
   "source": [
    "plt.plot(nn.error_history)\n",
    "plt.title('Courbe d\\'apprentissage')\n",
    "plt.xlabel('Epochs')\n",
    "plt.ylabel('Erreur')\n",
    "plt.show()"
   ]
  },
  {
   "cell_type": "code",
   "execution_count": null,
   "metadata": {},
   "outputs": [],
   "source": [
    "#load model\n",
    "last_nn = nn\n",
    "from LeafNetwork import *\n",
    "nn = LeafNetwork.load(\"leaf_mnist_model.json\")"
   ]
  },
  {
   "cell_type": "code",
   "execution_count": null,
   "metadata": {},
   "outputs": [],
   "source": [
    "# Tester le réseau\n",
    "predictions = nn.predict(X_test)\n",
    "predicted_labels = np.argmax(predictions, axis=1)\n",
    "accuracy = np.mean(predicted_labels == y_test)\n",
    "print(f\"Test Accuracy: {accuracy:.4f}\")"
   ]
  },
  {
   "cell_type": "code",
   "execution_count": null,
   "metadata": {},
   "outputs": [],
   "source": [
    "import numpy as np\n",
    "import timeit\n",
    "\n",
    "def test_accuracy(network, X_test, y_test):\n",
    "    predictions = network.predict(X_test)\n",
    "    predicted_labels = np.argmax(predictions, axis=1)\n",
    "    accuracy = np.mean(predicted_labels == y_test)\n",
    "    return accuracy\n",
    "\n",
    "def benchmark_nn():\n",
    "    return test_accuracy(nn, X_test, y_test)\n",
    "\n",
    "def benchmark_lastnn():\n",
    "    return test_accuracy(last_nn, X_test, y_test)\n",
    "\n",
    "lastnn_time = timeit.timeit(benchmark_lastnn, number=100)\n",
    "lastnn_accuracy = benchmark_lastnn()\n",
    "\n",
    "nn_time = timeit.timeit(benchmark_nn, number=100)\n",
    "nn_accuracy = benchmark_nn()\n",
    "\n",
    "\n",
    "\n",
    "\n",
    "print(f\"Original NN - Test Accuracy: {nn_accuracy:.4f}, Time: {nn_time:.4f} seconds\")\n",
    "print(f\"Loaded NN - Test Accuracy: {lastnn_accuracy:.4f}, Time: {lastnn_time:.4f} seconds\")"
   ]
  },
  {
   "cell_type": "code",
   "execution_count": null,
   "metadata": {},
   "outputs": [],
   "source": [
    "# Afficher la matrice de confusion\n",
    "cm = confusion_matrix(y_test, predicted_labels)\n",
    "plt.figure(figsize=(10, 8))\n",
    "sns.heatmap(cm, annot=True, fmt='d', cmap='Blues')\n",
    "plt.title('Matrice de confusion')\n",
    "plt.xlabel('Prédictions')\n",
    "plt.ylabel('Vraies étiquettes')\n",
    "plt.savefig('images/confusion_matrix.png')\n",
    "plt.show()"
   ]
  },
  {
   "cell_type": "code",
   "execution_count": null,
   "metadata": {},
   "outputs": [],
   "source": [
    "# Visualiser quelques prédictions\n",
    "fig, axes = plt.subplots(3, 5, figsize=(15, 9))\n",
    "current_score = 0\n",
    "for i, ax in enumerate(axes.flat):\n",
    "    idx = np.random.randint(len(X_test))\n",
    "    ax.imshow(X_test[idx].reshape(28, 28), cmap='gray')\n",
    "    ax.set_title(f'Vraie: {y_test[idx]}, Prédite: {predicted_labels[idx]}')\n",
    "    if y_test[idx] == predicted_labels[idx]:\n",
    "        current_score += 1\n",
    "    ax.axis('off')\n",
    "plt.tight_layout()\n",
    "# print score\n",
    "print(f\"Score: {current_score}/{len(axes.flat)}\")\n",
    "plt.show()"
   ]
  }
 ],
 "metadata": {
  "kernelspec": {
   "display_name": "Python 3",
   "language": "python",
   "name": "python3"
  },
  "language_info": {
   "codemirror_mode": {
    "name": "ipython",
    "version": 3
   },
   "file_extension": ".py",
   "mimetype": "text/x-python",
   "name": "python",
   "nbconvert_exporter": "python",
   "pygments_lexer": "ipython3",
   "version": "3.12.3"
  }
 },
 "nbformat": 4,
 "nbformat_minor": 4
}
